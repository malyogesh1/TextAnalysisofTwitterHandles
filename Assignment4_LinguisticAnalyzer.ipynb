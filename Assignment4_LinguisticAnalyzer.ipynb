{
  "nbformat": 4,
  "nbformat_minor": 0,
  "metadata": {
    "colab": {
      "name": "Assignment4_LinguisticAnalyzer.ipynb",
      "provenance": [],
      "collapsed_sections": []
    },
    "kernelspec": {
      "name": "python3",
      "display_name": "Python 3"
    },
    "language_info": {
      "name": "python"
    }
  },
  "cells": [
    {
      "cell_type": "code",
      "metadata": {
        "colab": {
          "base_uri": "https://localhost:8080/"
        },
        "id": "XXMfChZKc64N",
        "outputId": "0006b4ea-1c1e-4f1e-d969-e6938ffa0d26"
      },
      "source": [
        "pip install syllables"
      ],
      "execution_count": 1,
      "outputs": [
        {
          "output_type": "stream",
          "text": [
            "Collecting syllables\n",
            "  Downloading https://files.pythonhosted.org/packages/16/d9/81a31f640ccf405fdfd0eae8eebfc2579b438804dbf34dc03cad3e76169a/syllables-0.1.0-py2.py3-none-any.whl\n",
            "Installing collected packages: syllables\n",
            "Successfully installed syllables-0.1.0\n"
          ],
          "name": "stdout"
        }
      ]
    },
    {
      "cell_type": "code",
      "metadata": {
        "colab": {
          "base_uri": "https://localhost:8080/"
        },
        "id": "hI8aQlfNdcxL",
        "outputId": "31644c2f-8308-49d4-cab0-b52fc7d055d4"
      },
      "source": [
        "import syllables\n",
        "import json\n",
        "import requests\n",
        "import textblob\n",
        "import matplotlib.pyplot as plt\n",
        "import nltk\n",
        "nltk.download(\"punkt\")\n",
        "nltk.download('averaged_perceptron_tagger')"
      ],
      "execution_count": 2,
      "outputs": [
        {
          "output_type": "stream",
          "text": [
            "[nltk_data] Downloading package punkt to /root/nltk_data...\n",
            "[nltk_data]   Unzipping tokenizers/punkt.zip.\n",
            "[nltk_data] Downloading package averaged_perceptron_tagger to\n",
            "[nltk_data]     /root/nltk_data...\n",
            "[nltk_data]   Unzipping taggers/averaged_perceptron_tagger.zip.\n"
          ],
          "name": "stdout"
        },
        {
          "output_type": "execute_result",
          "data": {
            "text/plain": [
              "True"
            ]
          },
          "metadata": {
            "tags": []
          },
          "execution_count": 2
        }
      ]
    },
    {
      "cell_type": "code",
      "metadata": {
        "id": "C1MLHqyh6hAf"
      },
      "source": [
        "# function to draw the plot\n",
        "def func_plot(xsize,ysize,ylist,charttitle,xtitle):\n",
        "  plt.gcf().set_size_inches(xsize,ysize)\n",
        "  plt.xticks(rotation = 45, ha = \"right\")\n",
        "  plt.bar(company_list, ylist, color = ['r','b','g','c','m','y'])\n",
        "  plt.title(charttitle)\n",
        "  plt.xlabel(xtitle)\n",
        "  plt.ylabel(\"Twitter Handle\")\n",
        "  plt.show()"
      ],
      "execution_count": 3,
      "outputs": []
    },
    {
      "cell_type": "code",
      "metadata": {
        "id": "6lm6XEXFhrWz"
      },
      "source": [
        "# function to calculate the polarity\n",
        "def func_polarity(company,datasource):\n",
        "  polarity_tweet = 0.0\n",
        "  count = 0  \n",
        "  for i in datasource:  \n",
        "    if i[\"Company\"] == company:\n",
        "      list = []\n",
        "      list.append(i[\"Text\"])\n",
        "      for j in list:\n",
        "        blob = textblob.TextBlob(j)\n",
        "        polarity_tweet += blob.polarity\n",
        "        count += 1\n",
        "  polarity_tweet_average = polarity_tweet/count\n",
        "  return polarity_tweet_average"
      ],
      "execution_count": 4,
      "outputs": []
    },
    {
      "cell_type": "code",
      "metadata": {
        "id": "3gUmBhUOupbz"
      },
      "source": [
        "# function to calculate the subjectivity\n",
        "def func_subjectivity(company,datasource):\n",
        "  subjectivity_tweet = 0.0\n",
        "  count = 0  \n",
        "  for i in datasource:  \n",
        "    if i[\"Company\"] == company:\n",
        "      list = []\n",
        "      list.append(i[\"Text\"])\n",
        "      for j in list:\n",
        "        blob = textblob.TextBlob(j)\n",
        "        subjectivity_tweet += blob.subjectivity\n",
        "        count += 1\n",
        "  subjectivity_tweet_average = subjectivity_tweet/count\n",
        "  return subjectivity_tweet_average"
      ],
      "execution_count": 5,
      "outputs": []
    },
    {
      "cell_type": "code",
      "metadata": {
        "id": "eqZ7vI3czNr8"
      },
      "source": [
        "# function to calculate the FKGL values\n",
        "def func_fkgl(company,datasource):\n",
        "  list = \"\"\n",
        "  sentences = 0\n",
        "  words = 0\n",
        "  total_syllables =0\n",
        "  for i in datasource:  \n",
        "    if i[\"Company\"] == company:\n",
        "      list += (i[\"Text\"])\n",
        "  tweet_text = textblob.TextBlob(list)\n",
        "  for k in tweet_text.sentences:\n",
        "    sentences += 1\n",
        "  for l in tweet_text.words:\n",
        "    words += 1\n",
        "    total_syllables += syllables.estimate(l)\n",
        "  fkgl_tweet =(0.39*(words/sentences)) + (11.8*(total_syllables/words)) - 15.59\n",
        "  return fkgl_tweet"
      ],
      "execution_count": 6,
      "outputs": []
    },
    {
      "cell_type": "code",
      "metadata": {
        "id": "tfOLv9eQ1ndm"
      },
      "source": [
        "# function to calculate the SMOG values\n",
        "def func_smog(company,datasource):\n",
        "  list = \"\"\n",
        "  sentences = 0\n",
        "  polysyllables =0\n",
        "  for i in datasource:  \n",
        "    if i[\"Company\"] == company:\n",
        "      list += (i[\"Text\"])\n",
        "  tweet_text = textblob.TextBlob(list)\n",
        "  for k in tweet_text.sentences:\n",
        "    sentences += 1\n",
        "  for l in tweet_text.words:\n",
        "    if syllables.estimate(l) >= 3:\n",
        "      polysyllables += 1\n",
        "  smog_tweet = (1.043*((polysyllables*30/sentences)**0.5)) + 3.1291\n",
        "  return smog_tweet"
      ],
      "execution_count": 7,
      "outputs": []
    },
    {
      "cell_type": "code",
      "metadata": {
        "id": "CYJcUaBY4OdH"
      },
      "source": [
        "# function to calculate formality\n",
        "def func_formality(company,datasource):\n",
        "  tweet_longtext = \"\"\n",
        "  for i in data1:  \n",
        "    if i[\"Company\"] == company:\n",
        "      tweet_longtext += (i[\"Text\"])\n",
        "  f = 0\n",
        "  c = 0\n",
        "  tweet_text = textblob.TextBlob(tweet_longtext)\n",
        "  for word,tag in tweet_text.tags:\n",
        "    if tag == \"NN\" or tag == \"JJ\" or tag == \"IN\" or tag == \"DT\":\n",
        "      # adding nouns, adjectives, prepositions and determiners\n",
        "      f += 1\n",
        "    if tag == \"PR\" or tag == \"VB\" or tag == \"RB\" or tag == \"UH\":\n",
        "      # adding pronouns, verbs, adverbs and interjections\n",
        "      c += 1\n",
        "  formal = 50*((f-c)/(f+c)+1)\n",
        "  return formal"
      ],
      "execution_count": 8,
      "outputs": []
    },
    {
      "cell_type": "code",
      "metadata": {
        "colab": {
          "base_uri": "https://localhost:8080/",
          "height": 1000
        },
        "id": "0iU9-O7pdvis",
        "outputId": "fae4d311-22f4-4ee6-b3cc-df6b8ebfb53b"
      },
      "source": [
        "print(\"Welcome to the customer service linguistics analyzer!\")\n",
        "with open(\"/content/drive/MyDrive/Colab Notebooks/customer_service_tweets_full\",'r') as file:\n",
        "    data = file.read()\n",
        "data1 = json.loads(data)\n",
        "company_list = ['@sprintcare', '@Ask_Spectrum', '@AskPlayStation', '@XboxSupport', '@UPSHelp', '@AmazonHelp', '@AppleSupport', '@Uber_Support', '@SpotifyCares', '@comcastcares', '@TMobileHelp', '@hulu_support']\n",
        "\n",
        "loop = \"yes\"\n",
        "while loop == 'yes':\n",
        "  user_input = input(\"\\nWhich analysis would you like to perform (Polarity / Subjectivity / Readability / Formality / Search)? \").lower()\n",
        "\n",
        "  if user_input == 'polarity':\n",
        "    polarity_list = []\n",
        "    for a in company_list:\n",
        "      # calling polarity function to calculate polarity\n",
        "      x = func_polarity(a,data1)\n",
        "      print(a,\":\",x)\n",
        "      polarity_list.append(x)\n",
        "    \n",
        "    # calling plot function to draw the graph \n",
        "    func_plot(9,6,polarity_list,\"Polarities by Twitter Handles\",\"Polarity\")\n",
        "\n",
        "  elif user_input == 'subjectivity':\n",
        "    subjectivity_list = []\n",
        "    for a in company_list:\n",
        "      # calling subjectivity function to calculate subjectivity\n",
        "      x = func_subjectivity(a,data1)\n",
        "      print(a,\":\",x)\n",
        "      subjectivity_list.append(x)\n",
        "    \n",
        "    # calling plot function to draw the graph \n",
        "    func_plot(10,4,subjectivity_list,\"Subjectivity by Twitter Handles\",\"Subjectivity\")\n",
        "\n",
        "  elif user_input == 'readability':\n",
        "    user_input1 = input(\"\\nWould you like to analyze FKGL or SMOG? \").lower()\n",
        "    if user_input1 == 'fkgl':\n",
        "      fkgl_list = []\n",
        "      for a in company_list:\n",
        "        # calling FKGL function to calculate FKGL values\n",
        "        x = func_fkgl(a,data1)\n",
        "        print(a,\":\",x)\n",
        "        fkgl_list.append(x)\n",
        "\n",
        "      # calling plot function to draw the graph\n",
        "      func_plot(10,4,fkgl_list,\"Flesch-Kincaid Grade Level(FKGL) by Twitter Handles\",\"FKGL\")\n",
        "\n",
        "    elif user_input1 == 'smog':\n",
        "      smog_list = []\n",
        "      for a in company_list:\n",
        "        # calling SMOG function to calculate smog values \n",
        "        x = func_smog(a,data1)\n",
        "        print(a,\":\",x)\n",
        "        smog_list.append(x)\n",
        "\n",
        "      # calling plot function to draw the graph \n",
        "      func_plot(10,4,smog_list,\"SMOG by Twitter Handles\",\"SMOG\")\n",
        "\n",
        "    else:\n",
        "      print(\"Sorry, that type of readability analysis is not supported. Please try again.\")\n",
        "\n",
        "  elif user_input == 'formality':\n",
        "    formality_list = []\n",
        "    for a in company_list:\n",
        "      # calling formality function to calculate formality values \n",
        "      x = func_formality(a,data1)\n",
        "      print(a,\":\",x)\n",
        "      formality_list.append(x)\n",
        "\n",
        "    # calling plot function to draw the graph \n",
        "    func_plot(10,4,formality_list,\"Formality by Twitter Handles\",\"Formality\")\n",
        "\n",
        "  elif user_input == 'search':\n",
        "    userinput2 = input(\"\\nWhich Twitter handle would you like to search? \")\n",
        "\n",
        "    if userinput2 in company_list:\n",
        "      print(\"\\nAverage polarity:\", func_polarity(userinput2,data1))\n",
        "      print(\"Average subjectivity:\", func_subjectivity(userinput2,data1))\n",
        "      print(\"Average Flesch-Kincaid Grade Level:\", func_fkgl(userinput2,data1))\n",
        "      print(\"Average SMOG index:\", func_smog(userinput2,data1))\n",
        "      print(\"Average Formality index:\", func_formality(userinput2,data1))\n",
        "\n",
        "    else:\n",
        "      print(\"Sorry, that Twitter handle was not found. Please try again.\")\n",
        "  \n",
        "  else:\n",
        "    print(\"Sorry, that type of analysis is not supported. Please try again.\")\n",
        "  loop = input(\"\\nWould you like to run another analysis (yes/no)? \").lower()\n"
      ],
      "execution_count": 9,
      "outputs": [
        {
          "output_type": "stream",
          "text": [
            "Welcome to the customer service linguistics analyzer!\n",
            "\n",
            "Which analysis would you like to perform (Polarity / Subjectivity / Readability / Formality / Search)? Polarity\n",
            "@sprintcare : 0.1441766155603655\n",
            "@Ask_Spectrum : 0.2387153826960076\n",
            "@AskPlayStation : 0.0799678848003847\n",
            "@XboxSupport : 0.16134886649230387\n",
            "@UPSHelp : -0.020923390993824426\n",
            "@AmazonHelp : 0.012632791606541599\n",
            "@AppleSupport : 0.20552694173881667\n",
            "@Uber_Support : 0.07891686147186143\n",
            "@SpotifyCares : 0.14145763313406176\n",
            "@comcastcares : 0.21032808897121366\n",
            "@TMobileHelp : 0.2874421763768641\n",
            "@hulu_support : 0.07364242688792685\n"
          ],
          "name": "stdout"
        },
        {
          "output_type": "display_data",
          "data": {
            "image/png": "[encoded data removed]",
            "text/plain": [
              "<Figure size 648x432 with 1 Axes>"
            ]
          },
          "metadata": {
            "tags": [],
            "needs_background": "light"
          }
        },
        {
          "output_type": "stream",
          "text": [
            "\n",
            "Would you like to run another analysis (yes/no)? yes\n",
            "\n",
            "Which analysis would you like to perform (Polarity / Subjectivity / Readability / Formality / Search)? search\n",
            "\n",
            "Which Twitter handle would you like to search? @UPSHelp\n",
            "\n",
            "Average polarity: -0.020923390993824426\n",
            "Average subjectivity: 0.4081721997854607\n",
            "Average Flesch-Kincaid Grade Level: 6.389392230185113\n",
            "Average SMOG index: 9.42738382498974\n",
            "Average Formality index: 81.10724549992436\n",
            "\n",
            "Would you like to run another analysis (yes/no)? YES\n",
            "\n",
            "Which analysis would you like to perform (Polarity / Subjectivity / Readability / Formality / Search)? profit\n",
            "Sorry, that type of analysis is not supported. Please try again.\n",
            "\n",
            "Would you like to run another analysis (yes/no)? Yes\n",
            "\n",
            "Which analysis would you like to perform (Polarity / Subjectivity / Readability / Formality / Search)? readability\n",
            "\n",
            "Would you like to analyze FKGL or SMOG? ABCD\n",
            "Sorry, that type of readability analysis is not supported. Please try again.\n",
            "\n",
            "Would you like to run another analysis (yes/no)? yes\n",
            "\n",
            "Which analysis would you like to perform (Polarity / Subjectivity / Readability / Formality / Search)? READABILITY\n",
            "\n",
            "Would you like to analyze FKGL or SMOG? FKGL\n",
            "@sprintcare : 5.350753086214237\n",
            "@Ask_Spectrum : 7.197940725117075\n",
            "@AskPlayStation : 9.795435746536388\n",
            "@XboxSupport : 6.215755314613052\n",
            "@UPSHelp : 6.389392230185113\n",
            "@AmazonHelp : 6.47331124879322\n",
            "@AppleSupport : 5.640349510310418\n",
            "@Uber_Support : 7.712930608809593\n",
            "@SpotifyCares : 5.128291307460902\n",
            "@comcastcares : 5.915631511951922\n",
            "@TMobileHelp : 5.368586526873351\n",
            "@hulu_support : 6.982032520325202\n"
          ],
          "name": "stdout"
        },
        {
          "output_type": "display_data",
          "data": {
            "image/png": "[encoded data removed]",
            "text/plain": [
              "<Figure size 720x288 with 1 Axes>"
            ]
          },
          "metadata": {
            "tags": [],
            "needs_background": "light"
          }
        },
        {
          "output_type": "stream",
          "text": [
            "\n",
            "Would you like to run another analysis (yes/no)? YES\n",
            "\n",
            "Which analysis would you like to perform (Polarity / Subjectivity / Readability / Formality / Search)? search\n",
            "\n",
            "Which Twitter handle would you like to search? @cocacola\n",
            "Sorry, that Twitter handle was not found. Please try again.\n",
            "\n",
            "Would you like to run another analysis (yes/no)? no\n"
          ],
          "name": "stdout"
        }
      ]
    }
  ]
}